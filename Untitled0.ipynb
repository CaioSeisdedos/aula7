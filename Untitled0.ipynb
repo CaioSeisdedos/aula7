{
  "nbformat": 4,
  "nbformat_minor": 0,
  "metadata": {
    "colab": {
      "provenance": [],
      "authorship_tag": "ABX9TyMrAWCIMrq965v6xDQIDaHt",
      "include_colab_link": true
    },
    "kernelspec": {
      "name": "python3",
      "display_name": "Python 3"
    },
    "language_info": {
      "name": "python"
    }
  },
  "cells": [
    {
      "cell_type": "markdown",
      "metadata": {
        "id": "view-in-github",
        "colab_type": "text"
      },
      "source": [
        "<a href=\"https://colab.research.google.com/github/CaioSeisdedos/aula7/blob/main/Untitled0.ipynb\" target=\"_parent\"><img src=\"https://colab.research.google.com/assets/colab-badge.svg\" alt=\"Open In Colab\"/></a>"
      ]
    },
    {
      "cell_type": "code",
      "source": [
        "!pip install gensim\n",
        "import gensim\n",
        "from gensim.models import KeyedVectors\n"
      ],
      "metadata": {
        "colab": {
          "base_uri": "https://localhost:8080/"
        },
        "id": "1AdtArmUEwi9",
        "outputId": "0f78f1f3-f348-4bb5-cd26-bfd0cadedd89"
      },
      "execution_count": null,
      "outputs": [
        {
          "output_type": "stream",
          "name": "stdout",
          "text": [
            "Requirement already satisfied: gensim in /usr/local/lib/python3.10/dist-packages (4.3.2)\n",
            "Requirement already satisfied: numpy>=1.18.5 in /usr/local/lib/python3.10/dist-packages (from gensim) (1.25.2)\n",
            "Requirement already satisfied: scipy>=1.7.0 in /usr/local/lib/python3.10/dist-packages (from gensim) (1.11.4)\n",
            "Requirement already satisfied: smart-open>=1.8.1 in /usr/local/lib/python3.10/dist-packages (from gensim) (6.4.0)\n"
          ]
        }
      ]
    },
    {
      "cell_type": "code",
      "source": [
        "import gensim.downloader as api\n",
        "\n",
        "# Carregar embeddings Word2Vec pré-treinados\n",
        "w2v_model = api.load(\"word2vec-google-news-300\")\n",
        "\n",
        "# Obter vetor de palavra para uma palavra específica\n",
        "word_vector = w2v_model['apple']\n",
        "print(\"Vetor Word2Vec para a palavra 'apple':\", word_vector)\n",
        "\n",
        "# Encontrar palavras mais similares\n",
        "similar_words = w2v_model.most_similar('apple', topn=5)\n",
        "print(\"Palavras mais similares a 'apple':\", similar_words)"
      ],
      "metadata": {
        "id": "LslWTja_FFAr"
      },
      "execution_count": null,
      "outputs": []
    },
    {
      "cell_type": "code",
      "source": [
        "palavras_chave = ['king', 'queen', 'banana', 'apple']\n",
        "\n",
        "for palavra in palavras_chave:\n",
        "    print(f\"Palavra-chave: {palavra}\")\n",
        "\n",
        "    if palavra in word2vec_model:\n",
        "        similar_words_word2vec = word2vec_model.most_similar(palavra)\n",
        "        print(\"Similaridade usando Word2Vec:\")\n",
        "        for word, score in similar_words_word2vec:\n",
        "            print(f\"  {word}: {score:.4f}\")\n",
        "    else:\n",
        "        print(f\"Palavra '{palavra}' não está no vocabulário do modelo Word2Vec.\")\n",
        "\n",
        "    if palavra in glove_model:\n",
        "        similar_words_glove = glove_model.most_similar(palavra)\n",
        "        print(\"Similaridade usando GloVe:\")\n",
        "        for word, score in similar_words_glove:\n",
        "            print(f\"  {word}: {score:.4f}\")\n",
        "    else:\n",
        "        print(f\"Palavra '{palavra}' não está no vocabulário do modelo GloVe.\")\n",
        "\n",
        "    print()\n"
      ],
      "metadata": {
        "id": "hK99Nem9FqJ-"
      },
      "execution_count": null,
      "outputs": []
    }
  ]
}