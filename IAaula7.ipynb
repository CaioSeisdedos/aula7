{
  "nbformat": 4,
  "nbformat_minor": 0,
  "metadata": {
    "colab": {
      "provenance": [],
      "authorship_tag": "ABX9TyMToULOHOX07Nlu7YUJZSY4",
      "include_colab_link": true
    },
    "kernelspec": {
      "name": "python3",
      "display_name": "Python 3"
    },
    "language_info": {
      "name": "python"
    }
  },
  "cells": [
    {
      "cell_type": "markdown",
      "metadata": {
        "id": "view-in-github",
        "colab_type": "text"
      },
      "source": [
        "<a href=\"https://colab.research.google.com/github/CaioSeisdedos/aula7/blob/main/IAaula7.ipynb\" target=\"_parent\"><img src=\"https://colab.research.google.com/assets/colab-badge.svg\" alt=\"Open In Colab\"/></a>"
      ]
    },
    {
      "cell_type": "code",
      "execution_count": 1,
      "metadata": {
        "id": "KDpuQjR7ZrC2"
      },
      "outputs": [],
      "source": [
        "class City:\n",
        "    def __init__(self, name, attractions):\n",
        "        self.name = name\n",
        "        self.attractions = attractions\n",
        "\n",
        "    def __str__(self):\n",
        "        return self.name"
      ]
    },
    {
      "cell_type": "code",
      "source": [
        "def greedy_search(start_city, cities):\n",
        "    visited_cities = [start_city]\n",
        "    total_distance = 0\n",
        "    current_city = start_city\n",
        "\n",
        "    while len(visited_cities) < len(cities):\n",
        "        next_city = None\n",
        "        min_distance = float('inf')\n",
        "\n",
        "        for city in cities:\n",
        "            if city != current_city and city not in visited_cities:\n",
        "                distance = calculate_distance(current_city, city)\n",
        "                if distance < min_distance and has_attraction(city):\n",
        "                    min_distance = distance\n",
        "                    next_city = city\n",
        "\n",
        "        if next_city is None:\n",
        "            break\n",
        "\n",
        "        visited_cities.append(next_city)\n",
        "        total_distance += min_distance\n",
        "        current_city = next_city\n",
        "\n",
        "    return visited_cities, total_distance"
      ],
      "metadata": {
        "id": "7LunmiMKZyz0"
      },
      "execution_count": 2,
      "outputs": []
    },
    {
      "cell_type": "code",
      "source": [
        "def calculate_distance(city1, city2):\n",
        "    return 100"
      ],
      "metadata": {
        "id": "hNCPHTXCZ1Fc"
      },
      "execution_count": 3,
      "outputs": []
    },
    {
      "cell_type": "code",
      "source": [
        "def has_attraction(city):\n",
        "    return len(city.attractions) > 0"
      ],
      "metadata": {
        "id": "FkcrEa-VZ6yn"
      },
      "execution_count": 4,
      "outputs": []
    },
    {
      "cell_type": "code",
      "source": [
        "city_B = City(\"B\", [\"Clube Aquático\"])\n",
        "city_C = City(\"C\", [\"Show da Turma de Mônica\"])\n",
        "city_E = City(\"E\", [\"Apresentação de um Coral\"])\n",
        "\n",
        "cities = [city_B, city_C, city_E]"
      ],
      "metadata": {
        "id": "q6HJb_UmZ9tf"
      },
      "execution_count": 5,
      "outputs": []
    },
    {
      "cell_type": "code",
      "source": [
        "start_city = city_B\n",
        "visited_cities, total_distance = greedy_search(start_city, cities)\n",
        "\n",
        "print(\"Cidades visitadas:\")\n",
        "for city in visited_cities:\n",
        "    print(city)\n",
        "\n",
        "print(\"Distância total percorrida:\", total_distance)"
      ],
      "metadata": {
        "colab": {
          "base_uri": "https://localhost:8080/"
        },
        "id": "tL-3bS4faAb_",
        "outputId": "8a5411f8-3252-4bf4-b17c-56da24f9667b"
      },
      "execution_count": 6,
      "outputs": [
        {
          "output_type": "stream",
          "name": "stdout",
          "text": [
            "Cidades visitadas:\n",
            "B\n",
            "C\n",
            "E\n",
            "Distância total percorrida: 200\n"
          ]
        }
      ]
    }
  ]
}